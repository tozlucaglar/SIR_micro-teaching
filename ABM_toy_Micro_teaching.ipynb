{
 "cells": [
  {
   "attachments": {},
   "cell_type": "markdown",
   "metadata": {},
   "source": [
    "<h1>Agent Based Modeling (ABM)</h1>\n",
    "\n",
    "In this tutorial, we will build our first simple Agent Based Models using the commands in the notebook. We will create a simple model, agents. After, those agents will interact randomly with other agents. And we simulate some changes in the community over multiple interactions.\n",
    "\n",
    "Our model will represent the United States presidential election. <b> Trump vs Biden </b>\n",
    "\n",
    "In each interaction, one agent (the influencer)influences another agent. And this interaction produce one of two possible opinion according to their existing representations.\n"
   ]
  },
  {
   "cell_type": "code",
   "execution_count": 92,
   "metadata": {},
   "outputs": [
    {
     "name": "stdout",
     "output_type": "stream",
     "text": [
      "('Flex', 'Trump')\n"
     ]
    }
   ],
   "source": [
    "import random\n",
    "from copy import deepcopy\n",
    "from numpy.random import choice\n",
    "import numpy as np\n",
    "import ipywidgets as ipw\n",
    "import ipywidgets as widgets\n",
    "%matplotlib inline \n",
    "import matplotlib.pyplot as plt\n",
    "\n",
    "\n",
    "# Setting the parameters\n",
    "\n",
    "opinion = ['Trump', 'Biden'] # opinion[0]= Trump, opinion[1]=Biden\n",
    "\n",
    "\n",
    "personalities = ['Flex', 'Stub'] # personalities[0]= Flexible, personalities[1]=Stubborn\n",
    "\n",
    "# For examaple, we can create a flexible agent who is Trump's supporter. \n",
    "\n",
    "agent_one = (personalities[0], opinion[0])\n",
    "print(agent_one)"
   ]
  },
  {
   "cell_type": "markdown",
   "metadata": {},
   "source": [
    "<b>There are four different types of the agent;</b>\n",
    "<ul>\n",
    "<li>Trump supporter who is flexible</li>\n",
    "<li>Trump supporter who is stubborn</li>\n",
    "\n",
    "<li>Biden supporter who is flexible</li>    \n",
    "<li>Biden supporter who is stubborn</li>\n",
    "</ul>\n",
    "\n",
    "\n"
   ]
  },
  {
   "cell_type": "code",
   "execution_count": 93,
   "metadata": {},
   "outputs": [],
   "source": [
    "# Create a function that generates a population of N agents with a given probabilistic distribution.\n",
    "\n",
    "\n",
    "pop_size = widgets.Text()            # popuation size\n",
    "ratio = widgets.Text()               # the ratio of Biden supporters to Trump supporters in the population\n",
    "T_sup_per_ratio = widgets.Text()     # the ratio of Stubborn personalities to Flexible in Trump's supporters\n",
    "B_sup_per_ratio = widgets.Text()     # the ratio of Stubborn personalities to Flexible in Biden's supporters\n",
    "\n",
    "\n",
    "def make_population_random(N, R, T_R, B_R):\n",
    "    pop_size.value = str(N)\n",
    "    ratio.value = str(R)\n",
    "    T_sup_per_ratio.value = str(T_R)\n",
    "    B_sup_per_ratio.value = str(B_R)\n",
    "    \n",
    "    population = []\n",
    "    \n",
    "    \n",
    "    for i in range(N):\n",
    "        s = np.random.binomial(1, R, 1)\n",
    "        if s == 0:\n",
    "            trump_per = np.random.binomial(1, T_R, 1)\n",
    "            p = personalities[trump_per[0]]\n",
    "        else:\n",
    "            biden_per = np.random.binomial(1, B_R, 1)\n",
    "            p = personalities[biden_per[0]]\n",
    "        \n",
    "        o = opinion[s[0]]\n",
    "        \n",
    "        \n",
    "        agent = [p, o]\n",
    "        \n",
    "        population.append(agent)\n",
    "\n",
    "    return population"
   ]
  },
  {
   "cell_type": "markdown",
   "metadata": {},
   "source": [
    "<h3> AGENTS </h3>\n",
    "\n",
    "\n",
    "Call the function to make a population of some agents. Define 4 different variables.\n",
    "\n",
    "<ol>\n",
    "<li>Popuation size</li>\n",
    "<li>The ratio of Biden supporters to Trump supporters in the population</li>\n",
    "<li>The ratio of Stubborn personalities to Flexible in Trump's supporters</li>\n",
    "<li>The ratio of Stubborn personalities to Flexible in Biden's supporters</li>\n",
    "</ol>\n"
   ]
  },
  {
   "cell_type": "code",
   "execution_count": 101,
   "metadata": {},
   "outputs": [
    {
     "data": {
      "application/vnd.jupyter.widget-view+json": {
       "model_id": "9023a5431ca34ab999a726e6f9e9fe75",
       "version_major": 2,
       "version_minor": 0
      },
      "text/plain": [
       "interactive(children=(IntSlider(value=200, continuous_update=False, description='Population Size', layout=Layo…"
      ]
     },
     "metadata": {},
     "output_type": "display_data"
    }
   ],
   "source": [
    "layout = ipw.Layout(width='100%')\n",
    "style = {'description_width': 'initial'}\n",
    "ipw.interact(make_population_random,\n",
    "             N=ipw.IntSlider(value=200, min=50, max=5000, step=50, continuous_update=False,\n",
    "                             description=\"Population Size\", style=style, layout=layout),\n",
    "             R=ipw.FloatSlider(value=0.5, min=0, max=1, step=0.1, continuous_update=False,\n",
    "                                   description=\"Biden Supporters Ratio in the Pop T => B \", style=style, layout=layout),\n",
    "             T_R=ipw.FloatSlider(value=0.5, min=0, max=1, step=0.1, continuous_update=False,\n",
    "                                   description=\"The stubborn ratio in the Trump Sup F => S\", style=style, layout=layout),\n",
    "             B_R=ipw.FloatSlider(value=0.5, min=0, max=1, step=0.1, continuous_update=False,\n",
    "                                   description=\"The stubborn ratio in the Biden Sup F => S\", style=style, layout=layout)\n",
    "             );"
   ]
  },
  {
   "cell_type": "code",
   "execution_count": 95,
   "metadata": {},
   "outputs": [
    {
     "name": "stdout",
     "output_type": "stream",
     "text": [
      "200\n"
     ]
    }
   ],
   "source": [
    "print(int(pop_size.value))\n",
    "\n",
    "def count(population):\n",
    "    T_supporter = 0. # must be a float!\n",
    "    B_supporter = 0. # must be a float! \n",
    "    for agent in population:\n",
    "        if agent[1] == 'Trump':\n",
    "            T_supporter += 1 \n",
    "        \n",
    "    return T_supporter / len(population)"
   ]
  },
  {
   "cell_type": "markdown",
   "metadata": {},
   "source": [
    "<h3> RULES </h3>\n",
    "\n",
    "<ol>\n",
    "<li>Choose a random agent and assign it as a listener</li>\n",
    "<li>Choose a random agent agent and assign it as an influencer</li>\n",
    "<li>If the listener is stubborn, pass the agent without making any changes.</li>\n",
    "<li>If the listener is flexible, copy the influencer agent's opinion to the listener agent. </li>\n",
    "</ol>\n",
    "\n"
   ]
  },
  {
   "cell_type": "code",
   "execution_count": 96,
   "metadata": {},
   "outputs": [],
   "source": [
    "\n",
    "def choose_pair(population):\n",
    "    i = random.randint(0, len(population) - 1) \n",
    "    j = random.randint(0, len(population) - 1)\n",
    "    \n",
    "    while i == j:\n",
    "        j = random.randint(0, len(population) - 1) # make sure the same agent is not selected twice\n",
    "        \n",
    "    return population[i], population[j]\n",
    "\n",
    " "
   ]
  },
  {
   "cell_type": "code",
   "execution_count": 97,
   "metadata": {},
   "outputs": [],
   "source": [
    "\n",
    "# Create a function that only updates agents using \"pass\" (which means do nothing in Python)\n",
    "def interact(listener,producer): \n",
    "    \n",
    "    if listener[1] == producer[1]:\n",
    "        pass   # do nothing\n",
    "    else:\n",
    "        if listener[0]=='Stub':\n",
    "            pass\n",
    "        else:\n",
    "            listener[1]=deepcopy(producer[1])"
   ]
  },
  {
   "cell_type": "markdown",
   "metadata": {},
   "source": [
    "<h3>Simulation step </h3>\n"
   ]
  },
  {
   "cell_type": "code",
   "execution_count": 98,
   "metadata": {},
   "outputs": [],
   "source": [
    "# Create a function that simulates a community of size N interacting randomly for K times       \n",
    "\n",
    "def simulate( k):\n",
    "\n",
    "    proportion = [] # make an empty list to keep track of the porportions after every interaction\n",
    "    \n",
    "    for i in range(k):\n",
    "        \n",
    "        pair = choose_pair(population) # choose a pair from the population\n",
    "        \n",
    "        interact(pair[0],pair[1])  # make the chosen pair interact\n",
    "        \n",
    "        proportion.append(count(population)) # track the proportion of the vowels in the population during intrtaction\n",
    "    \n",
    "    return population, proportion"
   ]
  },
  {
   "cell_type": "markdown",
   "metadata": {},
   "source": [
    "<h3><span style=\"color:red\">Run </span></h3>\n",
    "\n",
    "Run the simulation with the current population and observe the changes in the opinions within the population.\n",
    "\n",
    "The time of simulation was defined as 5000 as a default value. It can be changed."
   ]
  },
  {
   "cell_type": "code",
   "execution_count": 99,
   "metadata": {},
   "outputs": [
    {
     "data": {
      "image/png": "[encoded data removed]",
      "text/plain": [
       "<Figure size 432x288 with 1 Axes>"
      ]
     },
     "metadata": {
      "needs_background": "light"
     },
     "output_type": "display_data"
    }
   ],
   "source": [
    "\n",
    "population = make_population_random(int(pop_size.value), float(ratio.value), float(T_sup_per_ratio.value), float(B_sup_per_ratio.value))\n",
    "\n",
    "\n",
    "Simulation_time = 5000  # it can be changed.\n",
    "\n",
    "\n",
    "new_population, proportion = simulate( Simulation_time)\n",
    "\n",
    "\n",
    "plt.plot(proportion)\n",
    "\n",
    "plt.title('Changes to Trump\\'s votes over time')\n",
    "plt.ylabel('Proportion Trump supporters')\n",
    "plt.xlabel('Time [No. of interactions]')\n",
    "plt.ylim(0,1)\n",
    "plt.show()"
   ]
  },
  {
   "cell_type": "code",
   "execution_count": null,
   "metadata": {},
   "outputs": [],
   "source": []
  }
 ],
 "metadata": {
  "kernelspec": {
   "display_name": "Python 3",
   "language": "python",
   "name": "python3"
  },
  "language_info": {
   "codemirror_mode": {
    "name": "ipython",
    "version": 3
   },
   "file_extension": ".py",
   "mimetype": "text/x-python",
   "name": "python",
   "nbconvert_exporter": "python",
   "pygments_lexer": "ipython3",
   "version": "3.7.3"
  }
 },
 "nbformat": 4,
 "nbformat_minor": 4
}
